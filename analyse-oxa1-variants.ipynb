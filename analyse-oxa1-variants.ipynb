{
 "cells": [
  {
   "cell_type": "code",
   "execution_count": 1,
   "metadata": {},
   "outputs": [],
   "source": [
    "import pygsi\n",
    "from tqdm import tqdm"
   ]
  },
  {
   "cell_type": "code",
   "execution_count": 2,
   "metadata": {},
   "outputs": [],
   "source": [
    "# the oxa1 gene as specified on http://bigsi.io\n",
    "oxa1_sequence=\"ATGAAAAACACAATACATATCAACTTCGCTATTTTTTTAATAATTGCAAATATTATCTACAGCAGCGCCAGTGCATCAACAGATATCTCTACTGTTGCATCTCCATTATTTGAAGGAACTGAAGGTTGTTTTTTACTTTACGATGCATCCACAAACGCTGAAATTGCTCAATTCAATAAAGCAAAGTGTGCAACGCAAATGGCACCAGATTCAACTTTCAAGATCGCATTATCACTTATGGCATTTGATGCGGAAATAATAGATCAGAAAACCATATTCAAATGGGATAAAACCCCCAAAGGAATGGAGATCTGGAACAGCAATCATACACCAAAGACGTGGATGCAATTTTCTGTTGTTTGGGTTTCGCAAGAAATAACCCAAAAAATTGGATTAAATAAAATCAAGAATTATCTCAAAGATTTTGATTATGGAAATCAAGACTTCTCTGGAGATAAAGAAAGAAACAACGGATTAACAGAAGCATGGCTCGAAAGTAGCTTAAAAATTTCACCAGAAGAACAAATTCAATTCCTGCGTAAAATTATTAATCACAATCTCCCAGTTAAAAACTCAGCCATAGAAAACACCATAGAGAACATGTATCTACAAGATCTGGATAATAGTACAAAACTGTATGGGAAAACTGGTGCAGGATTCACAGCAAATAGAACCTTACAAAACGGATGGTTTGAAGGGTTTATTATAAGCAAATCAGGACATAAATATGTTTTTGTGTCCGCACTTACAGGAAACTTGGGGTCGAATTTAACATCAAGCATAAAAGCCAAGAAAAATGCGATCACCATTCTAAACACACTAAATTTA\""
   ]
  },
  {
   "cell_type": "code",
   "execution_count": 3,
   "metadata": {},
   "outputs": [
    {
     "name": "stdout",
     "output_type": "stream",
     "text": [
      "OXA1 is 828 bases long\n"
     ]
    }
   ],
   "source": [
    "first_nucleotide_position=0\n",
    "last_nucleotide_position=len(oxa1_sequence)\n",
    "\n",
    "print(\"OXA1 is %i bases long\" % len(oxa1_sequence))"
   ]
  },
  {
   "cell_type": "code",
   "execution_count": 4,
   "metadata": {},
   "outputs": [],
   "source": [
    "# create an instance of the class by giving it the nucleotide sequence as a string\n",
    "oxa1=pygsi.NucleotideStretch(nucleotide_sequence=oxa1_sequence,\\\n",
    "                             gene_name=\"oxa1\",\\\n",
    "                             first_amino_acid_position=1,\\\n",
    "                             species_name=None)"
   ]
  },
  {
   "cell_type": "code",
   "execution_count": 5,
   "metadata": {},
   "outputs": [
    {
     "name": "stdout",
     "output_type": "stream",
     "text": [
      "All species considered\n",
      "oxa1 gene\n",
      "M1 to L277\n",
      "MKNTIHINFAIFLIIANIIYSSASASTDISTVASPLFEGTEGCFLLYDASTNAEIAQFNKAKCATQMAPDSTFKIALSLMAFDAEIIDQKTIFKWDKTPKGMEIWNSNHTPKTWMQFSVVWVSQEITQKIGLNKIKNYLKDFDYGNQDFSGDKERNNGLTEAWLESSLKISPEEQIQFLRKIINHNLPVKNSAIENTIENMYLQDLDNSTKLYGKTGAGFTANRTLQNGWFEGFIISKSGHKYVFVSALTGNLGSNLTSSIKAKKNAITILNTLNL\n",
      "atgaaaaacacaatacatatcaacttcgctatttttttaataattgcaaatattatctacagcagcgccagtgcatcaacagatatctctactgttgcatctccattatttgaaggaactgaaggttgttttttactttacgatgcatccacaaacgctgaaattgctcaattcaataaagcaaagtgtgcaacgcaaatggcaccagattcaactttcaagatcgcattatcacttatggcatttgatgcggaaataatagatcagaaaaccatattcaaatgggataaaacccccaaaggaatggagatctggaacagcaatcatacaccaaagacgtggatgcaattttctgttgtttgggtttcgcaagaaataacccaaaaaattggattaaataaaatcaagaattatctcaaagattttgattatggaaatcaagacttctctggagataaagaaagaaacaacggattaacagaagcatggctcgaaagtagcttaaaaatttcaccagaagaacaaattcaattcctgcgtaaaattattaatcacaatctcccagttaaaaactcagccatagaaaacaccatagagaacatgtatctacaagatctggataatagtacaaaactgtatgggaaaactggtgcaggattcacagcaaatagaaccttacaaaacggatggtttgaagggtttattataagcaaatcaggacataaatatgtttttgtgtccgcacttacaggaaacttggggtcgaatttaacatcaagcataaaagccaagaaaaatgcgatcaccattctaaacacactaaattta\n",
      "6448 genomes found with this sequence\n"
     ]
    }
   ],
   "source": [
    "# let's have a look at the summary\n",
    "print(oxa1)"
   ]
  },
  {
   "cell_type": "code",
   "execution_count": 11,
   "metadata": {},
   "outputs": [
    {
     "name": "stderr",
     "output_type": "stream",
     "text": [
      "100%|██████████| 257/257 [3:39:39<00:00, 51.28s/it]  \n"
     ]
    }
   ],
   "source": [
    "for position in tqdm(range(10,267)):\n",
    "    for i in [1,2,3]:\n",
    "        oxa1.permuate_position(position,triplet_position=i)"
   ]
  },
  {
   "cell_type": "code",
   "execution_count": 14,
   "metadata": {},
   "outputs": [
    {
     "name": "stdout",
     "output_type": "stream",
     "text": [
      "    amino_acid_position mutation new_amino_acid new_triplet  non_synonymous  \\\n",
      "0                   244    V244F              F         ttt            True   \n",
      "1                   150    S150Y              Y         tat            True   \n",
      "2                    93     F93Y              Y         tac            True   \n",
      "3                   202    Y202Y              Y         tac           False   \n",
      "4                    85     E85*              *         taa            True   \n",
      "5                    46     L46I              I         att            True   \n",
      "6                   244    V244I              I         att            True   \n",
      "7                   164    L164I              I         atc            True   \n",
      "8                   102    M102I              I         ata            True   \n",
      "9                   221    T221I              I         ata            True   \n",
      "10                   91     T91T              T         act           False   \n",
      "11                  126    I126T              T         aca            True   \n",
      "12                   83     D83N              N         aat            True   \n",
      "13                  141    D141N              N         aat            True   \n",
      "14                   97     K97N              N         aac            True   \n",
      "15                   54     E54K              K         aaa            True   \n",
      "16                  128    Q128K              K         aaa            True   \n",
      "17                  136    K136K              K         aaa           False   \n",
      "18                  195    E195K              K         aaa            True   \n",
      "19                  237    S237R              R         aga            True   \n",
      "20                   49     A49V              V         gta            True   \n",
      "21                   53     A53A              A         gcc           False   \n",
      "22                  229    G229E              E         gaa            True   \n",
      "23                  207    D207E              E         gag            True   \n",
      "\n",
      "    number_genomes  number_nucleotide_changes  number_reference_genomes  \\\n",
      "0                3                          1                      6448   \n",
      "1                2                          1                      6448   \n",
      "2                1                          1                      6448   \n",
      "3                2                          1                      6448   \n",
      "4               21                          1                      6448   \n",
      "5                1                          1                      6448   \n",
      "6                1                          1                      6448   \n",
      "7                2                          1                      6448   \n",
      "8                2                          1                      6448   \n",
      "9                1                          1                      6448   \n",
      "10               1                          1                      6448   \n",
      "11               1                          1                      6448   \n",
      "12               1                          1                      6448   \n",
      "13               2                          1                      6448   \n",
      "14               1                          1                      6448   \n",
      "15               1                          1                      6448   \n",
      "16               2                          1                      6448   \n",
      "17               1                          1                      6448   \n",
      "18               2                          1                      6448   \n",
      "19               1                          1                      6448   \n",
      "20               4                          1                      6448   \n",
      "21               1                          1                      6448   \n",
      "22              14                          1                      6448   \n",
      "23               1                          1                      6448   \n",
      "\n",
      "   original_amino_acid original_triplet  synonymous  \n",
      "0                    V              gtt       False  \n",
      "1                    S              tct       False  \n",
      "2                    F              ttc       False  \n",
      "3                    Y              tat        True  \n",
      "4                    E              gaa       False  \n",
      "5                    L              ctt       False  \n",
      "6                    V              gtt       False  \n",
      "7                    L              ctc       False  \n",
      "8                    M              atg       False  \n",
      "9                    T              aca       False  \n",
      "10                   T              acc        True  \n",
      "11                   I              ata       False  \n",
      "12                   D              gat       False  \n",
      "13                   D              gat       False  \n",
      "14                   K              aaa       False  \n",
      "15                   E              gaa       False  \n",
      "16                   Q              caa       False  \n",
      "17                   K              aag        True  \n",
      "18                   E              gaa       False  \n",
      "19                   S              agc       False  \n",
      "20                   A              gca       False  \n",
      "21                   A              gct        True  \n",
      "22                   G              gga       False  \n",
      "23                   D              gat       False  \n"
     ]
    }
   ],
   "source": [
    "print(oxa1.df)"
   ]
  },
  {
   "cell_type": "code",
   "execution_count": 13,
   "metadata": {},
   "outputs": [],
   "source": [
    "# save all the variables and arrays to a NPY file\n",
    "oxa1.save(\"dat/oxa1-whole-1.npy\")\n",
    "\n",
    "# save the Pandas dataset to a CSV and DTA file\n",
    "oxa1.df.to_csv(\"dat/oxa1-whole-1.csv\")\n",
    "oxa1.df.to_stata(\"dat/oxa1-whole-1.dta\")"
   ]
  }
 ],
 "metadata": {
  "kernelspec": {
   "display_name": "Python 3",
   "language": "python",
   "name": "python3"
  },
  "language_info": {
   "codemirror_mode": {
    "name": "ipython",
    "version": 3
   },
   "file_extension": ".py",
   "mimetype": "text/x-python",
   "name": "python",
   "nbconvert_exporter": "python",
   "pygments_lexer": "ipython3",
   "version": "3.5.4"
  }
 },
 "nbformat": 4,
 "nbformat_minor": 2
}
