{
 "cells": [
  {
   "cell_type": "code",
   "execution_count": 1,
   "metadata": {},
   "outputs": [],
   "source": [
    "import pygsi\n",
    "from tqdm import tqdm"
   ]
  },
  {
   "cell_type": "code",
   "execution_count": 2,
   "metadata": {},
   "outputs": [],
   "source": [
    "# the oxa1 gene as specified on http://bigsi.io\n",
    "oxa1_sequence=\"ATGAAAAACACAATACATATCAACTTCGCTATTTTTTTAATAATTGCAAATATTATCTACAGCAGCGCCAGTGCATCAACAGATATCTCTACTGTTGCATCTCCATTATTTGAAGGAACTGAAGGTTGTTTTTTACTTTACGATGCATCCACAAACGCTGAAATTGCTCAATTCAATAAAGCAAAGTGTGCAACGCAAATGGCACCAGATTCAACTTTCAAGATCGCATTATCACTTATGGCATTTGATGCGGAAATAATAGATCAGAAAACCATATTCAAATGGGATAAAACCCCCAAAGGAATGGAGATCTGGAACAGCAATCATACACCAAAGACGTGGATGCAATTTTCTGTTGTTTGGGTTTCGCAAGAAATAACCCAAAAAATTGGATTAAATAAAATCAAGAATTATCTCAAAGATTTTGATTATGGAAATCAAGACTTCTCTGGAGATAAAGAAAGAAACAACGGATTAACAGAAGCATGGCTCGAAAGTAGCTTAAAAATTTCACCAGAAGAACAAATTCAATTCCTGCGTAAAATTATTAATCACAATCTCCCAGTTAAAAACTCAGCCATAGAAAACACCATAGAGAACATGTATCTACAAGATCTGGATAATAGTACAAAACTGTATGGGAAAACTGGTGCAGGATTCACAGCAAATAGAACCTTACAAAACGGATGGTTTGAAGGGTTTATTATAAGCAAATCAGGACATAAATATGTTTTTGTGTCCGCACTTACAGGAAACTTGGGGTCGAATTTAACATCAAGCATAAAAGCCAAGAAAAATGCGATCACCATTCTAAACACACTAAATTTA\""
   ]
  },
  {
   "cell_type": "code",
   "execution_count": 3,
   "metadata": {},
   "outputs": [
    {
     "name": "stdout",
     "output_type": "stream",
     "text": [
      "OXA1 is 828 bases long\n"
     ]
    }
   ],
   "source": [
    "first_nucleotide_position=0\n",
    "last_nucleotide_position=len(oxa1_sequence)\n",
    "\n",
    "print(\"OXA1 is %i bases long\" % len(oxa1_sequence))"
   ]
  },
  {
   "cell_type": "code",
   "execution_count": 4,
   "metadata": {},
   "outputs": [],
   "source": [
    "# create an instance of the class by giving it the nucleotide sequence as a string\n",
    "oxa1=pygsi.NucleotideStretch(nucleotide_sequence=oxa1_sequence,\\\n",
    "                             gene_name=\"oxa1\",\\\n",
    "                             first_amino_acid_position=1,\\\n",
    "                             species_name=None)"
   ]
  },
  {
   "cell_type": "code",
   "execution_count": 5,
   "metadata": {},
   "outputs": [
    {
     "name": "stdout",
     "output_type": "stream",
     "text": [
      "All species considered\n",
      "oxa1 gene\n",
      "M1 to L277\n",
      "MKNTIHINFAIFLIIANIIYSSASASTDISTVASPLFEGTEGCFLLYDASTNAEIAQFNKAKCATQMAPDSTFKIALSLMAFDAEIIDQKTIFKWDKTPKGMEIWNSNHTPKTWMQFSVVWVSQEITQKIGLNKIKNYLKDFDYGNQDFSGDKERNNGLTEAWLESSLKISPEEQIQFLRKIINHNLPVKNSAIENTIENMYLQDLDNSTKLYGKTGAGFTANRTLQNGWFEGFIISKSGHKYVFVSALTGNLGSNLTSSIKAKKNAITILNTLNL\n",
      "atgaaaaacacaatacatatcaacttcgctatttttttaataattgcaaatattatctacagcagcgccagtgcatcaacagatatctctactgttgcatctccattatttgaaggaactgaaggttgttttttactttacgatgcatccacaaacgctgaaattgctcaattcaataaagcaaagtgtgcaacgcaaatggcaccagattcaactttcaagatcgcattatcacttatggcatttgatgcggaaataatagatcagaaaaccatattcaaatgggataaaacccccaaaggaatggagatctggaacagcaatcatacaccaaagacgtggatgcaattttctgttgtttgggtttcgcaagaaataacccaaaaaattggattaaataaaatcaagaattatctcaaagattttgattatggaaatcaagacttctctggagataaagaaagaaacaacggattaacagaagcatggctcgaaagtagcttaaaaatttcaccagaagaacaaattcaattcctgcgtaaaattattaatcacaatctcccagttaaaaactcagccatagaaaacaccatagagaacatgtatctacaagatctggataatagtacaaaactgtatgggaaaactggtgcaggattcacagcaaatagaaccttacaaaacggatggtttgaagggtttattataagcaaatcaggacataaatatgtttttgtgtccgcacttacaggaaacttggggtcgaatttaacatcaagcataaaagccaagaaaaatgcgatcaccattctaaacacactaaattta\n",
      "6448 genomes found with this sequence\n"
     ]
    }
   ],
   "source": [
    "# let's have a look at the summary\n",
    "print(oxa1)"
   ]
  },
  {
   "cell_type": "code",
   "execution_count": null,
   "metadata": {},
   "outputs": [
    {
     "name": "stderr",
     "output_type": "stream",
     "text": [
      "  2%|▏         | 6/257 [06:25<4:28:41, 64.23s/it]"
     ]
    }
   ],
   "source": [
    "for position in tqdm(range(10,267)):\n",
    "    for i in [1,2,3]:\n",
    "        oxa1.permuate_position(position,triplet_position=i)"
   ]
  },
  {
   "cell_type": "code",
   "execution_count": 10,
   "metadata": {},
   "outputs": [
    {
     "name": "stdout",
     "output_type": "stream",
     "text": [
      "   amino_acid_position mutation new_amino_acid new_triplet  non_synonymous  \\\n",
      "0                  102    M102I              I         ata            True   \n",
      "\n",
      "   number_genomes  number_nucleotide_changes  number_reference_genomes  \\\n",
      "0               2                          1                      6448   \n",
      "\n",
      "  original_amino_acid original_triplet  synonymous  \n",
      "0                   M              atg       False  \n"
     ]
    }
   ],
   "source": [
    "print(oxa1.df)"
   ]
  },
  {
   "cell_type": "code",
   "execution_count": null,
   "metadata": {},
   "outputs": [],
   "source": [
    "# save all the variables and arrays to a NPY file\n",
    "oxa1.save(\"dat/oxa1.npy\")\n",
    "\n",
    "# save the Pandas dataset to a CSV and DTA file\n",
    "oxa1.df.to_csv(\"dat/oxa1.csv\")\n",
    "oxa1.df.to_stata(\"dat/oxa1-oxa1.dta\")"
   ]
  }
 ],
 "metadata": {
  "kernelspec": {
   "display_name": "Python 3",
   "language": "python",
   "name": "python3"
  },
  "language_info": {
   "codemirror_mode": {
    "name": "ipython",
    "version": 3
   },
   "file_extension": ".py",
   "mimetype": "text/x-python",
   "name": "python",
   "nbconvert_exporter": "python",
   "pygments_lexer": "ipython3",
   "version": "3.5.4"
  }
 },
 "nbformat": 4,
 "nbformat_minor": 2
}
