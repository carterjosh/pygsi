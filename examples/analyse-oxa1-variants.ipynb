{
 "cells": [
  {
   "cell_type": "code",
   "execution_count": 1,
   "metadata": {},
   "outputs": [],
   "source": [
    "import pygsi\n",
    "\n",
    "# this gives us a neat progress bar\n",
    "from tqdm import tqdm"
   ]
  },
  {
   "cell_type": "code",
   "execution_count": 4,
   "metadata": {},
   "outputs": [
    {
     "name": "stdout",
     "output_type": "stream",
     "text": [
      "OXA1 is 1508 bases and 502 amino acids long\n"
     ]
    }
   ],
   "source": [
    "# the oxa1 gene as specified on http://bigsi.io\n",
    "oxa1_sequence=\"CGGTCAGTCCGTTTGTTCTTGTGGCGAGTGTTGCCGTTTTCTTGACCGCGACCGCCAATCTTACCTTTTTTGATAAAATCAGCCAAACCTATCCCATCGCGGACAATCTCGGCTTTGTGCTGACGATCGCTGTCGTGCTCTTTGGCGCGATGCTACTGATCACCACGCTGTTATCATCGTATCGCTATGTGCTAAAGCCTGTGTTGATTTTGCTATTAATCATGGGCGCGGTGACCAGTTATTTTACTGACACTTATGGCACGGTCTATGATACGACCATGCTCCAAAATGCCCTACAGACCGACCAAGCCGAGACCAAGGATCTATTAAACGCAGCGTTTATCATGCGTATCATTGGTTTGGGTGTGCTACCAAGTTTGCTTGTGGCTTTTGTTAAGGTGGATTATCCGACTTGGGGCAAGGGTTTGATGCGCCGATTGGGCTTGATCGTGGCAAGTCTTGCGCTGATTTTACTGCCTGTGGTGGCGTTCAGCAGTCATTATGCCAGTTTCTTTCGCGTGCATAAGCCGCTGCGTAGCTATGTCAATCCGATCATGCCAATCTACTCGGTGGGTAAGCTTGCCAGTATTGAGTATAAAAAAGCCAGTGCGCCAAAAGATACCATTTATCACGCCAAAGACGCGGTACAAGCAACCAAGCCTGATATGCGTAAGCCACGCCTAGTGGTGTTCGTCGTCGGTGAGACGGCACGCGCCGATCATGTCAGCTTCAATGGCTATGAGCGCGATACTTTCCCACAGCTTGCCAAGATCGATGGCGTGACCAATTTTAGCAATGTCACATCGTGCGGCACATCGACGGCGTATTCTGTGCCGTGTATGTTCAGCTATCTGGGCGCGGATGAGTATGATGTCGATACCGCCAAATACCAAGAAAATGTGCTGGATACGCTGGATCGCTTGGGCGTAAGTATCTTGTGGCGTGATAATAATTCGGACTCAAAAGGCGTGATGGATAAGCTGCCAAAAGCGCAATTTGCCGATTATAAATCCGCGACCAACAACGCCATCTGCAACACCAATCCTTATAACGAATGCCGCGATGTCGGTATGCTCGTTGGCTTAGATGACTTTGTCGCTGCCAATAACGGCAAAGATATGCTGATCATGCTGCACCAAATGGGCAATCACGGGCCTGCGTATTTTAAGCGATATGATGAAAAGTTTGCCAAATTCACGCCAGTGTGTGAAGGTAATGAGCTTGCCAAGTGCGAACATCAGTCCTTGATCAATGCTTATGACAATGCCTTGCTTGCCACCGATGATTTCATCGCTCAAAGTATCCAGTGGCTGCAGACGCACAGCAATGCCTATGATGTCTCAATGCTGTATGTCAGCGATCATGGCGAAAGTCTGGGTGAGAACGGTGTCTATCTACATGGTATGCCAAATGCCTTTGCACCAAAAGAACAGCGCAGTGTGCCTGCATTTTTCTGGACGGATAAGCAAACTGGCATCACGCCAATGGCAACCGATACCGTCCTGACC\"\n",
    "\n",
    "print(\"OXA1 is %i bases and %i amino acids long\" % (len(oxa1_sequence),len(oxa1_sequence)/3))"
   ]
  },
  {
   "cell_type": "code",
   "execution_count": 5,
   "metadata": {},
   "outputs": [
    {
     "ename": "AssertionError",
     "evalue": "string of nucleotides must be exactly divisible by three",
     "output_type": "error",
     "traceback": [
      "\u001b[0;31m---------------------------------------------------------------------------\u001b[0m",
      "\u001b[0;31mAssertionError\u001b[0m                            Traceback (most recent call last)",
      "\u001b[0;32m<ipython-input-5-e30e34190617>\u001b[0m in \u001b[0;36m<module>\u001b[0;34m()\u001b[0m\n\u001b[1;32m      1\u001b[0m \u001b[0;31m# create an instance of the class by giving it the nucleotide sequence as a string\u001b[0m\u001b[0;34m\u001b[0m\u001b[0;34m\u001b[0m\u001b[0m\n\u001b[0;32m----> 2\u001b[0;31m \u001b[0moxa1\u001b[0m\u001b[0;34m=\u001b[0m\u001b[0mpygsi\u001b[0m\u001b[0;34m.\u001b[0m\u001b[0mNucleotideStretch\u001b[0m\u001b[0;34m(\u001b[0m\u001b[0mnucleotide_sequence\u001b[0m\u001b[0;34m=\u001b[0m\u001b[0moxa1_sequence\u001b[0m\u001b[0;34m,\u001b[0m                             \u001b[0mgene_name\u001b[0m\u001b[0;34m=\u001b[0m\u001b[0;34m\"oxa1\"\u001b[0m\u001b[0;34m,\u001b[0m                             \u001b[0mfirst_amino_acid_position\u001b[0m\u001b[0;34m=\u001b[0m\u001b[0;36m1\u001b[0m\u001b[0;34m,\u001b[0m                             \u001b[0mspecies_name\u001b[0m\u001b[0;34m=\u001b[0m\u001b[0;32mNone\u001b[0m\u001b[0;34m)\u001b[0m\u001b[0;34m\u001b[0m\u001b[0m\n\u001b[0m\u001b[1;32m      3\u001b[0m \u001b[0;34m\u001b[0m\u001b[0m\n\u001b[1;32m      4\u001b[0m \u001b[0;31m# note that as species_name is not specified, there will be no filtering based on\u001b[0m\u001b[0;34m\u001b[0m\u001b[0;34m\u001b[0m\u001b[0m\n\u001b[1;32m      5\u001b[0m \u001b[0;31m# species and so all sequences will considered\u001b[0m\u001b[0;34m\u001b[0m\u001b[0;34m\u001b[0m\u001b[0m\n",
      "\u001b[0;32m~/Library/Python/3.5/lib/python/site-packages/pygsi-0.1.0-py3.5.egg/pygsi/core.py\u001b[0m in \u001b[0;36m__init__\u001b[0;34m(self, filename, nucleotide_sequence, gene_name, species_name, species_min_amount, first_amino_acid_position)\u001b[0m\n\u001b[1;32m     33\u001b[0m \u001b[0;34m\u001b[0m\u001b[0m\n\u001b[1;32m     34\u001b[0m             \u001b[0;31m# insist that the number of nucleotides must be divisible by three so can be decoded into amino acids\u001b[0m\u001b[0;34m\u001b[0m\u001b[0;34m\u001b[0m\u001b[0m\n\u001b[0;32m---> 35\u001b[0;31m             \u001b[0;32massert\u001b[0m \u001b[0;34m(\u001b[0m\u001b[0mself\u001b[0m\u001b[0;34m.\u001b[0m\u001b[0mnumber_nucleotides\u001b[0m\u001b[0;34m%\u001b[0m\u001b[0;36m3\u001b[0m\u001b[0;34m)\u001b[0m\u001b[0;34m==\u001b[0m\u001b[0;36m0\u001b[0m\u001b[0;34m,\u001b[0m \u001b[0;34m\"string of nucleotides must be exactly divisible by three\"\u001b[0m\u001b[0;34m\u001b[0m\u001b[0m\n\u001b[0m\u001b[1;32m     36\u001b[0m \u001b[0;34m\u001b[0m\u001b[0m\n\u001b[1;32m     37\u001b[0m             \u001b[0;31m# how many amino acids does that therefore correspond to?\u001b[0m\u001b[0;34m\u001b[0m\u001b[0;34m\u001b[0m\u001b[0m\n",
      "\u001b[0;31mAssertionError\u001b[0m: string of nucleotides must be exactly divisible by three"
     ]
    }
   ],
   "source": [
    "# create an instance of the class by giving it the nucleotide sequence as a string\n",
    "oxa1=pygsi.NucleotideStretch(nucleotide_sequence=oxa1_sequence,\\\n",
    "                             gene_name=\"oxa1\",\\\n",
    "                             first_amino_acid_position=1,\\\n",
    "                             species_name=None)\n",
    "\n",
    "# note that as species_name is not specified, there will be no filtering based on\n",
    "# species and so all sequences will considered"
   ]
  },
  {
   "cell_type": "code",
   "execution_count": null,
   "metadata": {},
   "outputs": [],
   "source": [
    "# let's have a look at the summary\n",
    "print(oxa1)"
   ]
  },
  {
   "cell_type": "code",
   "execution_count": null,
   "metadata": {},
   "outputs": [],
   "source": [
    "# let's just look at a short stretch of the protein\n",
    "# these are amino acid positions\n",
    "# also remember, since we are querying bigsi with a triplet flanked by 30 bases on either side,\n",
    "# and here we are just using the gene, the first amino acid we can consider is 11 and the last is\n",
    "# N-10, which here is 266.\n",
    "\n",
    "for position in tqdm(range(228,245)):\n",
    "\n",
    "    # this form will permute each of the three positions in the triplet in turn \n",
    "    # with once for wildtype\n",
    "    # 4x3x3=36 possible combinations \n",
    "\n",
    "    for i in [1,2,3]:    \n",
    "        oxa1.permuate_position(position,triplet_position=i)\n",
    "\n",
    "    # alternatively, comment out the above two lines, and uncomment this line which\n",
    "    # instead considers ALL the possible triplets (incl. wt)\n",
    "    # 4^3 = 64 combinations\n",
    "\n",
    "    # oxa1.permuate_position(position)\n",
    "    \n",
    "    # save every 10 amino acids \n",
    "    if (position%10)==0:\n",
    "        oxa1.save(\"dat/oxa1-whole-1.npy\")\n",
    "        oxa1.df.to_csv(\"dat/oxa1-whole-1.csv\")    "
   ]
  },
  {
   "cell_type": "code",
   "execution_count": null,
   "metadata": {},
   "outputs": [],
   "source": [
    "# the data is stored in the class as a Pandas dataframe, which we can simply access via\n",
    "print(oxa1.df)"
   ]
  },
  {
   "cell_type": "code",
   "execution_count": null,
   "metadata": {},
   "outputs": [],
   "source": [
    "# save all the variables and arrays to a NPY file\n",
    "oxa1.save(\"dat/oxa1-whole-1.npy\")\n",
    "\n",
    "# save the Pandas dataset to a CSV and DTA file\n",
    "oxa1.df.to_csv(\"dat/oxa1-whole-1.csv\")\n",
    "oxa1.df.to_stata(\"dat/oxa1-whole-1.dta\")"
   ]
  }
 ],
 "metadata": {
  "kernelspec": {
   "display_name": "Python 3",
   "language": "python",
   "name": "python3"
  },
  "language_info": {
   "codemirror_mode": {
    "name": "ipython",
    "version": 3
   },
   "file_extension": ".py",
   "mimetype": "text/x-python",
   "name": "python",
   "nbconvert_exporter": "python",
   "pygments_lexer": "ipython3",
   "version": "3.5.4"
  }
 },
 "nbformat": 4,
 "nbformat_minor": 2
}
