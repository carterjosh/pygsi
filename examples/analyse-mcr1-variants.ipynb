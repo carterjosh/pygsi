{
 "cells": [
  {
   "cell_type": "code",
   "execution_count": 1,
   "metadata": {},
   "outputs": [],
   "source": [
    "import pygsi\n",
    "from tqdm import tqdm"
   ]
  },
  {
   "cell_type": "code",
   "execution_count": 27,
   "metadata": {},
   "outputs": [],
   "source": [
    "# the mcr1 gene as specified on http://bigsi.io\n",
    "mcr1_sequence=\"ATGATGCAGCATACTTCTGTGTGGTACCGACGCTCGGTCAGTCCGTTTGTTCTTGTGGCGAGTGTTGCCGTTTTCTTGACCGCGACCGCCAATCTTACCTTTTTTGATAAAATCAGCCAAACCTATCCCATCGCGGACAATCTCGGCTTTGTGCTGACGATCGCTGTCGTGCTCTTTGGCGCGATGCTACTGATCACCACGCTGTTATCATCGTATCGCTATGTGCTAAAGCCTGTGTTGATTTTGCTATTAATCATGGGCGCGGTGACCAGTTATTTTACTGACACTTATGGCACGGTCTATGATACGACCATGCTCCAAAATGCCCTACAGACCGACCAAGCCGAGACCAAGGATCTATTAAACGCAGCGTTTATCATGCGTATCATTGGTTTGGGTGTGCTACCAAGTTTGCTTGTGGCTTTTGTTAAGGTGGATTATCCGACTTGGGGCAAGGGTTTGATGCGCCGATTGGGCTTGATCGTGGCAAGTCTTGCGCTGATTTTACTGCCTGTGGTGGCGTTCAGCAGTCATTATGCCAGTTTCTTTCGCGTGCATAAGCCGCTGCGTAGCTATGTCAATCCGATCATGCCAATCTACTCGGTGGGTAAGCTTGCCAGTATTGAGTATAAAAAAGCCAGTGCGCCAAAAGATACCATTTATCACGCCAAAGACGCGGTACAAGCAACCAAGCCTGATATGCGTAAGCCACGCCTAGTGGTGTTCGTCGTCGGTGAGACGGCACGCGCCGATCATGTCAGCTTCAATGGCTATGAGCGCGATACTTTCCCACAGCTTGCCAAGATCGATGGCGTGACCAATTTTAGCAATGTCACATCGTGCGGCACATCGACGGCGTATTCTGTGCCGTGTATGTTCAGCTATCTGGGCGCGGATGAGTATGATGTCGATACCGCCAAATACCAAGAAAATGTGCTGGATACGCTGGATCGCTTGGGCGTAAGTATCTTGTGGCGTGATAATAATTCGGACTCAAAAGGCGTGATGGATAAGCTGCCAAAAGCGCAATTTGCCGATTATAAATCCGCGACCAACAACGCCATCTGCAACACCAATCCTTATAACGAATGCCGCGATGTCGGTATGCTCGTTGGCTTAGATGACTTTGTCGCTGCCAATAACGGCAAAGATATGCTGATCATGCTGCACCAAATGGGCAATCACGGGCCTGCGTATTTTAAGCGATATGATGAAAAGTTTGCCAAATTCACGCCAGTGTGTGAAGGTAATGAGCTTGCCAAGTGCGAACATCAGTCCTTGATCAATGCTTATGACAATGCCTTGCTTGCCACCGATGATTTCATCGCTCAAAGTATCCAGTGGCTGCAGACGCACAGCAATGCCTATGATGTCTCAATGCTGTATGTCAGCGATCATGGCGAAAGTCTGGGTGAGAACGGTGTCTATCTACATGGTATGCCAAATGCCTTTGCACCAAAAGAACAGCGCAGTGTGCCTGCATTTTTCTGGACGGATAAGCAAACTGGCATCACGCCAATGGCAACCGATACCGTCCTGACCCATGACGCGATCACGCCGACATTATTAAAGCTGTTTGATGTCACCGCGGACAAAGTCAAAGACCGCACCGCATTCATCCGC\""
   ]
  },
  {
   "cell_type": "code",
   "execution_count": 36,
   "metadata": {},
   "outputs": [
    {
     "name": "stdout",
     "output_type": "stream",
     "text": [
      "MCR1 is 1623 bases and 541 amino acids long\n"
     ]
    }
   ],
   "source": [
    "first_nucleotide_position=0\n",
    "last_nucleotide_position=len(mcr1_sequence)\n",
    "\n",
    "print(\"MCR1 is %i bases and %i amino acids long\" % (len(mcr1_sequence),len(mcr1_sequence)/3))"
   ]
  },
  {
   "cell_type": "code",
   "execution_count": 37,
   "metadata": {},
   "outputs": [],
   "source": [
    "# create an instance of the class by giving it the nucleotide sequence as a string\n",
    "mcr1=pygsi.NucleotideStretch(nucleotide_sequence=mcr1_sequence,\\\n",
    "                             gene_name=\"mcr1\",\\\n",
    "                             first_amino_acid_position=1,\\\n",
    "                             species_name=None)"
   ]
  },
  {
   "cell_type": "code",
   "execution_count": 41,
   "metadata": {},
   "outputs": [
    {
     "name": "stdout",
     "output_type": "stream",
     "text": [
      "All species considered\n",
      "mcr1 gene\n",
      "M1 to R542\n",
      "MMQHTSVWYRRSVSPFVLVASVAVFLTATANLTFFDKISQTYPIADNLGFVLTIAVVLFGAMLLITTLLSSYRYVLKPVLILLLIMGAVTSYFTDTYGTVYDTTMLQNALQTDQAETKDLLNAAFIMRIIGLGVLPSLLVAFVKVDYPTWGKGLMRRLGLIVASLALILLPVVAFSSHYASFFRVHKPLRSYVNPIMPIYSVGKLASIEYKKASAPKDTIYHAKDAVQATKPDMRKPRLVVFVVGETARADHVSFNGYERDTFPQLAKIDGVTNFSNVTSCGTSTAYSVPCMFSYLGADEYDVDTAKYQENVLDTLDRLGVSILWRDNNSDSKGVMDKLPKAQFADYKSATNNAICNTNPYNECRDVGMLVGLDDFVAANNGKDMLIMLHQMGNHGPAYFKRYDEKFAKFTPVCEGNELAKCEHQSLINAYDNALLATDDFIAQSIQWLQTHSNAYDVSMLYVSDHGESLGENGVYLHGMPNAFAPKEQRSVPAFFWTDKQTGITPMATDTVLTHDAITPTLLKLFDVTADKVKDRTAFIR\n",
      "atgatgcagcatacttctgtgtggtaccgacgctcggtcagtccgtttgttcttgtggcgagtgttgccgttttcttgaccgcgaccgccaatcttaccttttttgataaaatcagccaaacctatcccatcgcggacaatctcggctttgtgctgacgatcgctgtcgtgctctttggcgcgatgctactgatcaccacgctgttatcatcgtatcgctatgtgctaaagcctgtgttgattttgctattaatcatgggcgcggtgaccagttattttactgacacttatggcacggtctatgatacgaccatgctccaaaatgccctacagaccgaccaagccgagaccaaggatctattaaacgcagcgtttatcatgcgtatcattggtttgggtgtgctaccaagtttgcttgtggcttttgttaaggtggattatccgacttggggcaagggtttgatgcgccgattgggcttgatcgtggcaagtcttgcgctgattttactgcctgtggtggcgttcagcagtcattatgccagtttctttcgcgtgcataagccgctgcgtagctatgtcaatccgatcatgccaatctactcggtgggtaagcttgccagtattgagtataaaaaagccagtgcgccaaaagataccatttatcacgccaaagacgcggtacaagcaaccaagcctgatatgcgtaagccacgcctagtggtgttcgtcgtcggtgagacggcacgcgccgatcatgtcagcttcaatggctatgagcgcgatactttcccacagcttgccaagatcgatggcgtgaccaattttagcaatgtcacatcgtgcggcacatcgacggcgtattctgtgccgtgtatgttcagctatctgggcgcggatgagtatgatgtcgataccgccaaataccaagaaaatgtgctggatacgctggatcgcttgggcgtaagtatcttgtggcgtgataataattcggactcaaaaggcgtgatggataagctgccaaaagcgcaatttgccgattataaatccgcgaccaacaacgccatctgcaacaccaatccttataacgaatgccgcgatgtcggtatgctcgttggcttagatgactttgtcgctgccaataacggcaaagatatgctgatcatgctgcaccaaatgggcaatcacgggcctgcgtattttaagcgatatgatgaaaagtttgccaaattcacgccagtgtgtgaaggtaatgagcttgccaagtgcgaacatcagtccttgatcaatgcttatgacaatgccttgcttgccaccgatgatttcatcgctcaaagtatccagtggctgcagacgcacagcaatgcctatgatgtctcaatgctgtatgtcagcgatcatggcgaaagtctgggtgagaacggtgtctatctacatggtatgccaaatgcctttgcaccaaaagaacagcgcagtgtgcctgcatttttctggacggataagcaaactggcatcacgccaatggcaaccgataccgtcctgacccatgacgcgatcacgccgacattattaaagctgtttgatgtcaccgcggacaaagtcaaagaccgcaccgcattcatccgc\n",
      "166 genomes found with this sequence\n"
     ]
    }
   ],
   "source": [
    "# let's have a look at the summary\n",
    "print(mcr1)"
   ]
  },
  {
   "cell_type": "code",
   "execution_count": 39,
   "metadata": {},
   "outputs": [
    {
     "name": "stderr",
     "output_type": "stream",
     "text": [
      "100%|██████████| 521/521 [6:34:57<00:00, 45.48s/it]  \n"
     ]
    }
   ],
   "source": [
    "for position in tqdm(range(10,531)):\n",
    "    for i in [1,2,3]:\n",
    "        mcr1.permuate_position(position,triplet_position=i)\n",
    "\n",
    "    # save every 10 amino acids\n",
    "    if (position%10)==0:\n",
    "        mcr1.save(\"rpob-whole-1.npy\")\n",
    "        mcr1.df.to_csv(\"rpob-whole-1.csv\")    "
   ]
  },
  {
   "cell_type": "code",
   "execution_count": 43,
   "metadata": {},
   "outputs": [
    {
     "name": "stdout",
     "output_type": "stream",
     "text": [
      "    amino_acid_position mutation new_amino_acid new_triplet  non_synonymous  \\\n",
      "0                   132    L132F              F         ttt            True   \n",
      "1                   158    L158F              F         ttt            True   \n",
      "2                   319    L319F              F         ttt            True   \n",
      "3                   150    W150L              L         ttg            True   \n",
      "4                   296    L296L              L         ctt           False   \n",
      "5                   470    L470L              L         ctt           False   \n",
      "6                    43     P43P              P         cca           False   \n",
      "7                   152    K152N              N         aat            True   \n",
      "8                   391    Q391K              K         aaa            True   \n",
      "9                   202    V202V              V         gtt           False   \n",
      "10                   88     A88A              A         gct           False   \n",
      "11                  420    A420A              A         gca           False   \n",
      "\n",
      "    number_genomes  number_nucleotide_changes  number_reference_genomes  \\\n",
      "0                1                          1                       166   \n",
      "1                1                          1                       166   \n",
      "2                1                          1                       166   \n",
      "3                1                          1                       166   \n",
      "4                1                          1                       166   \n",
      "5                1                          1                       166   \n",
      "6                1                          1                       166   \n",
      "7                1                          1                       166   \n",
      "8                1                          1                       166   \n",
      "9                1                          1                       166   \n",
      "10               1                          1                       166   \n",
      "11               1                          1                       166   \n",
      "\n",
      "   original_amino_acid original_triplet  synonymous  \n",
      "0                    L              ttg       False  \n",
      "1                    L              ttg       False  \n",
      "2                    L              ttg       False  \n",
      "3                    W              tgg       False  \n",
      "4                    L              ctg        True  \n",
      "5                    L              ctg        True  \n",
      "6                    P              ccc        True  \n",
      "7                    K              aag       False  \n",
      "8                    Q              caa       False  \n",
      "9                    V              gtg        True  \n",
      "10                   A              gcg        True  \n",
      "11                   A              gcc        True  \n"
     ]
    }
   ],
   "source": [
    "print(mcr1.df)"
   ]
  },
  {
   "cell_type": "code",
   "execution_count": 42,
   "metadata": {},
   "outputs": [],
   "source": [
    "# save all the variables and arrays to a NPY file\n",
    "mcr1.save(\"dat/mcr1-whole-1.npy\")\n",
    "\n",
    "# save the Pandas dataset to a CSV and DTA file\n",
    "mcr1.df.to_csv(\"dat/mcr1-whole-1.csv\")\n",
    "mcr1.df.to_stata(\"dat/mcr1-whole-1.dta\")"
   ]
  }
 ],
 "metadata": {
  "kernelspec": {
   "display_name": "Python 3",
   "language": "python",
   "name": "python3"
  },
  "language_info": {
   "codemirror_mode": {
    "name": "ipython",
    "version": 3
   },
   "file_extension": ".py",
   "mimetype": "text/x-python",
   "name": "python",
   "nbconvert_exporter": "python",
   "pygments_lexer": "ipython3",
   "version": "3.5.4"
  }
 },
 "nbformat": 4,
 "nbformat_minor": 2
}
