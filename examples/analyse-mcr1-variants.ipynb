{
 "cells": [
  {
   "cell_type": "code",
   "execution_count": 1,
   "metadata": {},
   "outputs": [],
   "source": [
    "import pygsi\n",
    "from tqdm import tqdm"
   ]
  },
  {
   "cell_type": "code",
   "execution_count": 2,
   "metadata": {},
   "outputs": [],
   "source": [
    "# the mcr1 gene as specified on http://bigsi.io\n",
    "mcr1_sequence=\"ATGATGCAGCATACTTCTGTGTGGTACCGACGCTCGGTCAGTCCGTTTGTTCTTGTGGCGAGTGTTGCCGTTTTCTTGACCGCGACCGCCAATCTTACCTTTTTTGATAAAATCAGCCAAACCTATCCCATCGCGGACAATCTCGGCTTTGTGCTGACGATCGCTGTCGTGCTCTTTGGCGCGATGCTACTGATCACCACGCTGTTATCATCGTATCGCTATGTGCTAAAGCCTGTGTTGATTTTGCTATTAATCATGGGCGCGGTGACCAGTTATTTTACTGACACTTATGGCACGGTCTATGATACGACCATGCTCCAAAATGCCCTACAGACCGACCAAGCCGAGACCAAGGATCTATTAAACGCAGCGTTTATCATGCGTATCATTGGTTTGGGTGTGCTACCAAGTTTGCTTGTGGCTTTTGTTAAGGTGGATTATCCGACTTGGGGCAAGGGTTTGATGCGCCGATTGGGCTTGATCGTGGCAAGTCTTGCGCTGATTTTACTGCCTGTGGTGGCGTTCAGCAGTCATTATGCCAGTTTCTTTCGCGTGCATAAGCCGCTGCGTAGCTATGTCAATCCGATCATGCCAATCTACTCGGTGGGTAAGCTTGCCAGTATTGAGTATAAAAAAGCCAGTGCGCCAAAAGATACCATTTATCACGCCAAAGACGCGGTACAAGCAACCAAGCCTGATATGCGTAAGCCACGCCTAGTGGTGTTCGTCGTCGGTGAGACGGCACGCGCCGATCATGTCAGCTTCAATGGCTATGAGCGCGATACTTTCCCACAGCTTGCCAAGATCGATGGCGTGACCAATTTTAGCAATGTCACATCGTGCGGCACATCGACGGCGTATTCTGTGCCGTGTATGTTCAGCTATCTGGGCGCGGATGAGTATGATGTCGATACCGCCAAATACCAAGAAAATGTGCTGGATACGCTGGATCGCTTGGGCGTAAGTATCTTGTGGCGTGATAATAATTCGGACTCAAAAGGCGTGATGGATAAGCTGCCAAAAGCGCAATTTGCCGATTATAAATCCGCGACCAACAACGCCATCTGCAACACCAATCCTTATAACGAATGCCGCGATGTCGGTATGCTCGTTGGCTTAGATGACTTTGTCGCTGCCAATAACGGCAAAGATATGCTGATCATGCTGCACCAAATGGGCAATCACGGGCCTGCGTATTTTAAGCGATATGATGAAAAGTTTGCCAAATTCACGCCAGTGTGTGAAGGTAATGAGCTTGCCAAGTGCGAACATCAGTCCTTGATCAATGCTTATGACAATGCCTTGCTTGCCACCGATGATTTCATCGCTCAAAGTATCCAGTGGCTGCAGACGCACAGCAATGCCTATGATGTCTCAATGCTGTATGTCAGCGATCATGGCGAAAGTCTGGGTGAGAACGGTGTCTATCTACATGGTATGCCAAATGCCTTTGCACCAAAAGAACAGCGCAGTGTGCCTGCATTTTTCTGGACGGATAAGCAAACTGGCATCACGCCAATGGCAACCGATACCGTCCTGACCCATGACGCGATCACGCCGACATTATTAAAGCTGTTTGATGTCACCGCGGACAAAGTCAAAGACCGCACCGCATTCATCCGC\""
   ]
  },
  {
   "cell_type": "code",
   "execution_count": 5,
   "metadata": {},
   "outputs": [
    {
     "name": "stdout",
     "output_type": "stream",
     "text": [
      "MCR1 is 1623 bases and 541 amino acids long\n"
     ]
    }
   ],
   "source": [
    "first_nucleotide_position=0\n",
    "last_nucleotide_position=len(mcr1_sequence)\n",
    "\n",
    "print(\"MCR1 is %i bases and %i amino acids long\" % (len(mcr1_sequence),len(mcr1_sequence)/3))"
   ]
  },
  {
   "cell_type": "code",
   "execution_count": 6,
   "metadata": {},
   "outputs": [
    {
     "ename": "JSONDecodeError",
     "evalue": "Expecting value: line 1 column 1 (char 0)",
     "output_type": "error",
     "traceback": [
      "\u001b[0;31m---------------------------------------------------------------------------\u001b[0m",
      "\u001b[0;31mJSONDecodeError\u001b[0m                           Traceback (most recent call last)",
      "\u001b[0;32m<ipython-input-6-f3cd1aedca34>\u001b[0m in \u001b[0;36m<module>\u001b[0;34m()\u001b[0m\n\u001b[1;32m      1\u001b[0m \u001b[0;31m# create an instance of the class by giving it the nucleotide sequence as a string\u001b[0m\u001b[0;34m\u001b[0m\u001b[0;34m\u001b[0m\u001b[0m\n\u001b[0;32m----> 2\u001b[0;31m \u001b[0mmcr1\u001b[0m\u001b[0;34m=\u001b[0m\u001b[0mpygsi\u001b[0m\u001b[0;34m.\u001b[0m\u001b[0mNucleotideStretch\u001b[0m\u001b[0;34m(\u001b[0m\u001b[0mnucleotide_sequence\u001b[0m\u001b[0;34m=\u001b[0m\u001b[0mmcr1_sequence\u001b[0m\u001b[0;34m,\u001b[0m                             \u001b[0mgene_name\u001b[0m\u001b[0;34m=\u001b[0m\u001b[0;34m\"mcr1\"\u001b[0m\u001b[0;34m,\u001b[0m                             \u001b[0mfirst_amino_acid_position\u001b[0m\u001b[0;34m=\u001b[0m\u001b[0;36m1\u001b[0m\u001b[0;34m,\u001b[0m                             \u001b[0mspecies_name\u001b[0m\u001b[0;34m=\u001b[0m\u001b[0;32mNone\u001b[0m\u001b[0;34m)\u001b[0m\u001b[0;34m\u001b[0m\u001b[0m\n\u001b[0m",
      "\u001b[0;32m~/Library/Python/3.5/lib/python/site-packages/pygsi-0.1.0-py3.5.egg/pygsi/core.py\u001b[0m in \u001b[0;36m__init__\u001b[0;34m(self, filename, nucleotide_sequence, gene_name, species_name, species_min_amount, first_amino_acid_position)\u001b[0m\n\u001b[1;32m     72\u001b[0m             \u001b[0;31m# now interrogate the bigsi web instance to see how many genomes exist with the specified reference sequence\u001b[0m\u001b[0;34m\u001b[0m\u001b[0;34m\u001b[0m\u001b[0m\n\u001b[1;32m     73\u001b[0m             \u001b[0;31m# (this can take 5-10 seconds)\u001b[0m\u001b[0;34m\u001b[0m\u001b[0;34m\u001b[0m\u001b[0m\n\u001b[0;32m---> 74\u001b[0;31m             \u001b[0mself\u001b[0m\u001b[0;34m.\u001b[0m\u001b[0mnumber_reference_genomes\u001b[0m\u001b[0;34m=\u001b[0m\u001b[0mself\u001b[0m\u001b[0;34m.\u001b[0m\u001b[0m_interrogate_bigsi\u001b[0m\u001b[0;34m(\u001b[0m\u001b[0mnucleotide_sequence\u001b[0m\u001b[0;34m)\u001b[0m\u001b[0;34m\u001b[0m\u001b[0m\n\u001b[0m\u001b[1;32m     75\u001b[0m \u001b[0;34m\u001b[0m\u001b[0m\n\u001b[1;32m     76\u001b[0m             \u001b[0;31m# instantiate the arrays dictionary that is going to hold all the numpy 2D arrays (this maybe could be done with pandas)\u001b[0m\u001b[0;34m\u001b[0m\u001b[0;34m\u001b[0m\u001b[0m\n",
      "\u001b[0;32m~/Library/Python/3.5/lib/python/site-packages/pygsi-0.1.0-py3.5.egg/pygsi/core.py\u001b[0m in \u001b[0;36m_interrogate_bigsi\u001b[0;34m(self, nucleotides_string)\u001b[0m\n\u001b[1;32m    296\u001b[0m \u001b[0;34m\u001b[0m\u001b[0m\n\u001b[1;32m    297\u001b[0m         \u001b[0;31m# parse the returned data\u001b[0m\u001b[0;34m\u001b[0m\u001b[0;34m\u001b[0m\u001b[0m\n\u001b[0;32m--> 298\u001b[0;31m         \u001b[0mresult\u001b[0m\u001b[0;34m=\u001b[0m\u001b[0mjson\u001b[0m\u001b[0;34m.\u001b[0m\u001b[0mloads\u001b[0m\u001b[0;34m(\u001b[0m\u001b[0mr\u001b[0m\u001b[0;34m.\u001b[0m\u001b[0mtext\u001b[0m\u001b[0;34m)\u001b[0m\u001b[0;34m\u001b[0m\u001b[0m\n\u001b[0m\u001b[1;32m    299\u001b[0m \u001b[0;34m\u001b[0m\u001b[0m\n\u001b[1;32m    300\u001b[0m         \u001b[0;31m# loop through the samples\u001b[0m\u001b[0;34m\u001b[0m\u001b[0;34m\u001b[0m\u001b[0m\n",
      "\u001b[0;32m/opt/local/Library/Frameworks/Python.framework/Versions/3.5/lib/python3.5/json/__init__.py\u001b[0m in \u001b[0;36mloads\u001b[0;34m(s, encoding, cls, object_hook, parse_float, parse_int, parse_constant, object_pairs_hook, **kw)\u001b[0m\n\u001b[1;32m    317\u001b[0m             \u001b[0mparse_int\u001b[0m \u001b[0;32mis\u001b[0m \u001b[0;32mNone\u001b[0m \u001b[0;32mand\u001b[0m \u001b[0mparse_float\u001b[0m \u001b[0;32mis\u001b[0m \u001b[0;32mNone\u001b[0m \u001b[0;32mand\u001b[0m\u001b[0;34m\u001b[0m\u001b[0m\n\u001b[1;32m    318\u001b[0m             parse_constant is None and object_pairs_hook is None and not kw):\n\u001b[0;32m--> 319\u001b[0;31m         \u001b[0;32mreturn\u001b[0m \u001b[0m_default_decoder\u001b[0m\u001b[0;34m.\u001b[0m\u001b[0mdecode\u001b[0m\u001b[0;34m(\u001b[0m\u001b[0ms\u001b[0m\u001b[0;34m)\u001b[0m\u001b[0;34m\u001b[0m\u001b[0m\n\u001b[0m\u001b[1;32m    320\u001b[0m     \u001b[0;32mif\u001b[0m \u001b[0mcls\u001b[0m \u001b[0;32mis\u001b[0m \u001b[0;32mNone\u001b[0m\u001b[0;34m:\u001b[0m\u001b[0;34m\u001b[0m\u001b[0m\n\u001b[1;32m    321\u001b[0m         \u001b[0mcls\u001b[0m \u001b[0;34m=\u001b[0m \u001b[0mJSONDecoder\u001b[0m\u001b[0;34m\u001b[0m\u001b[0m\n",
      "\u001b[0;32m/opt/local/Library/Frameworks/Python.framework/Versions/3.5/lib/python3.5/json/decoder.py\u001b[0m in \u001b[0;36mdecode\u001b[0;34m(self, s, _w)\u001b[0m\n\u001b[1;32m    337\u001b[0m \u001b[0;34m\u001b[0m\u001b[0m\n\u001b[1;32m    338\u001b[0m         \"\"\"\n\u001b[0;32m--> 339\u001b[0;31m         \u001b[0mobj\u001b[0m\u001b[0;34m,\u001b[0m \u001b[0mend\u001b[0m \u001b[0;34m=\u001b[0m \u001b[0mself\u001b[0m\u001b[0;34m.\u001b[0m\u001b[0mraw_decode\u001b[0m\u001b[0;34m(\u001b[0m\u001b[0ms\u001b[0m\u001b[0;34m,\u001b[0m \u001b[0midx\u001b[0m\u001b[0;34m=\u001b[0m\u001b[0m_w\u001b[0m\u001b[0;34m(\u001b[0m\u001b[0ms\u001b[0m\u001b[0;34m,\u001b[0m \u001b[0;36m0\u001b[0m\u001b[0;34m)\u001b[0m\u001b[0;34m.\u001b[0m\u001b[0mend\u001b[0m\u001b[0;34m(\u001b[0m\u001b[0;34m)\u001b[0m\u001b[0;34m)\u001b[0m\u001b[0;34m\u001b[0m\u001b[0m\n\u001b[0m\u001b[1;32m    340\u001b[0m         \u001b[0mend\u001b[0m \u001b[0;34m=\u001b[0m \u001b[0m_w\u001b[0m\u001b[0;34m(\u001b[0m\u001b[0ms\u001b[0m\u001b[0;34m,\u001b[0m \u001b[0mend\u001b[0m\u001b[0;34m)\u001b[0m\u001b[0;34m.\u001b[0m\u001b[0mend\u001b[0m\u001b[0;34m(\u001b[0m\u001b[0;34m)\u001b[0m\u001b[0;34m\u001b[0m\u001b[0m\n\u001b[1;32m    341\u001b[0m         \u001b[0;32mif\u001b[0m \u001b[0mend\u001b[0m \u001b[0;34m!=\u001b[0m \u001b[0mlen\u001b[0m\u001b[0;34m(\u001b[0m\u001b[0ms\u001b[0m\u001b[0;34m)\u001b[0m\u001b[0;34m:\u001b[0m\u001b[0;34m\u001b[0m\u001b[0m\n",
      "\u001b[0;32m/opt/local/Library/Frameworks/Python.framework/Versions/3.5/lib/python3.5/json/decoder.py\u001b[0m in \u001b[0;36mraw_decode\u001b[0;34m(self, s, idx)\u001b[0m\n\u001b[1;32m    355\u001b[0m             \u001b[0mobj\u001b[0m\u001b[0;34m,\u001b[0m \u001b[0mend\u001b[0m \u001b[0;34m=\u001b[0m \u001b[0mself\u001b[0m\u001b[0;34m.\u001b[0m\u001b[0mscan_once\u001b[0m\u001b[0;34m(\u001b[0m\u001b[0ms\u001b[0m\u001b[0;34m,\u001b[0m \u001b[0midx\u001b[0m\u001b[0;34m)\u001b[0m\u001b[0;34m\u001b[0m\u001b[0m\n\u001b[1;32m    356\u001b[0m         \u001b[0;32mexcept\u001b[0m \u001b[0mStopIteration\u001b[0m \u001b[0;32mas\u001b[0m \u001b[0merr\u001b[0m\u001b[0;34m:\u001b[0m\u001b[0;34m\u001b[0m\u001b[0m\n\u001b[0;32m--> 357\u001b[0;31m             \u001b[0;32mraise\u001b[0m \u001b[0mJSONDecodeError\u001b[0m\u001b[0;34m(\u001b[0m\u001b[0;34m\"Expecting value\"\u001b[0m\u001b[0;34m,\u001b[0m \u001b[0ms\u001b[0m\u001b[0;34m,\u001b[0m \u001b[0merr\u001b[0m\u001b[0;34m.\u001b[0m\u001b[0mvalue\u001b[0m\u001b[0;34m)\u001b[0m \u001b[0;32mfrom\u001b[0m \u001b[0;32mNone\u001b[0m\u001b[0;34m\u001b[0m\u001b[0m\n\u001b[0m\u001b[1;32m    358\u001b[0m         \u001b[0;32mreturn\u001b[0m \u001b[0mobj\u001b[0m\u001b[0;34m,\u001b[0m \u001b[0mend\u001b[0m\u001b[0;34m\u001b[0m\u001b[0m\n",
      "\u001b[0;31mJSONDecodeError\u001b[0m: Expecting value: line 1 column 1 (char 0)"
     ]
    }
   ],
   "source": [
    "# create an instance of the class by giving it the nucleotide sequence as a string\n",
    "mcr1=pygsi.NucleotideStretch(nucleotide_sequence=mcr1_sequence,\\\n",
    "                             gene_name=\"mcr1\",\\\n",
    "                             first_amino_acid_position=1,\\\n",
    "                             species_name=None)"
   ]
  },
  {
   "cell_type": "code",
   "execution_count": 41,
   "metadata": {},
   "outputs": [
    {
     "name": "stdout",
     "output_type": "stream",
     "text": [
      "All species considered\n",
      "mcr1 gene\n",
      "M1 to R542\n",
      "MMQHTSVWYRRSVSPFVLVASVAVFLTATANLTFFDKISQTYPIADNLGFVLTIAVVLFGAMLLITTLLSSYRYVLKPVLILLLIMGAVTSYFTDTYGTVYDTTMLQNALQTDQAETKDLLNAAFIMRIIGLGVLPSLLVAFVKVDYPTWGKGLMRRLGLIVASLALILLPVVAFSSHYASFFRVHKPLRSYVNPIMPIYSVGKLASIEYKKASAPKDTIYHAKDAVQATKPDMRKPRLVVFVVGETARADHVSFNGYERDTFPQLAKIDGVTNFSNVTSCGTSTAYSVPCMFSYLGADEYDVDTAKYQENVLDTLDRLGVSILWRDNNSDSKGVMDKLPKAQFADYKSATNNAICNTNPYNECRDVGMLVGLDDFVAANNGKDMLIMLHQMGNHGPAYFKRYDEKFAKFTPVCEGNELAKCEHQSLINAYDNALLATDDFIAQSIQWLQTHSNAYDVSMLYVSDHGESLGENGVYLHGMPNAFAPKEQRSVPAFFWTDKQTGITPMATDTVLTHDAITPTLLKLFDVTADKVKDRTAFIR\n",
      "atgatgcagcatacttctgtgtggtaccgacgctcggtcagtccgtttgttcttgtggcgagtgttgccgttttcttgaccgcgaccgccaatcttaccttttttgataaaatcagccaaacctatcccatcgcggacaatctcggctttgtgctgacgatcgctgtcgtgctctttggcgcgatgctactgatcaccacgctgttatcatcgtatcgctatgtgctaaagcctgtgttgattttgctattaatcatgggcgcggtgaccagttattttactgacacttatggcacggtctatgatacgaccatgctccaaaatgccctacagaccgaccaagccgagaccaaggatctattaaacgcagcgtttatcatgcgtatcattggtttgggtgtgctaccaagtttgcttgtggcttttgttaaggtggattatccgacttggggcaagggtttgatgcgccgattgggcttgatcgtggcaagtcttgcgctgattttactgcctgtggtggcgttcagcagtcattatgccagtttctttcgcgtgcataagccgctgcgtagctatgtcaatccgatcatgccaatctactcggtgggtaagcttgccagtattgagtataaaaaagccagtgcgccaaaagataccatttatcacgccaaagacgcggtacaagcaaccaagcctgatatgcgtaagccacgcctagtggtgttcgtcgtcggtgagacggcacgcgccgatcatgtcagcttcaatggctatgagcgcgatactttcccacagcttgccaagatcgatggcgtgaccaattttagcaatgtcacatcgtgcggcacatcgacggcgtattctgtgccgtgtatgttcagctatctgggcgcggatgagtatgatgtcgataccgccaaataccaagaaaatgtgctggatacgctggatcgcttgggcgtaagtatcttgtggcgtgataataattcggactcaaaaggcgtgatggataagctgccaaaagcgcaatttgccgattataaatccgcgaccaacaacgccatctgcaacaccaatccttataacgaatgccgcgatgtcggtatgctcgttggcttagatgactttgtcgctgccaataacggcaaagatatgctgatcatgctgcaccaaatgggcaatcacgggcctgcgtattttaagcgatatgatgaaaagtttgccaaattcacgccagtgtgtgaaggtaatgagcttgccaagtgcgaacatcagtccttgatcaatgcttatgacaatgccttgcttgccaccgatgatttcatcgctcaaagtatccagtggctgcagacgcacagcaatgcctatgatgtctcaatgctgtatgtcagcgatcatggcgaaagtctgggtgagaacggtgtctatctacatggtatgccaaatgcctttgcaccaaaagaacagcgcagtgtgcctgcatttttctggacggataagcaaactggcatcacgccaatggcaaccgataccgtcctgacccatgacgcgatcacgccgacattattaaagctgtttgatgtcaccgcggacaaagtcaaagaccgcaccgcattcatccgc\n",
      "166 genomes found with this sequence\n"
     ]
    }
   ],
   "source": [
    "# let's have a look at the summary\n",
    "print(mcr1)"
   ]
  },
  {
   "cell_type": "code",
   "execution_count": 39,
   "metadata": {},
   "outputs": [
    {
     "name": "stderr",
     "output_type": "stream",
     "text": [
      "100%|██████████| 521/521 [6:34:57<00:00, 45.48s/it]  \n"
     ]
    }
   ],
   "source": [
    "for position in tqdm(range(10,531)):\n",
    "    for i in [1,2,3]:\n",
    "        mcr1.permuate_position(position,triplet_position=i)\n",
    "\n",
    "    # save every 10 amino acids\n",
    "    if (position%10)==0:\n",
    "        mcr1.save(\"rpob-whole-1.npy\")\n",
    "        mcr1.df.to_csv(\"rpob-whole-1.csv\")    "
   ]
  },
  {
   "cell_type": "code",
   "execution_count": 43,
   "metadata": {},
   "outputs": [
    {
     "name": "stdout",
     "output_type": "stream",
     "text": [
      "    amino_acid_position mutation new_amino_acid new_triplet  non_synonymous  \\\n",
      "0                   132    L132F              F         ttt            True   \n",
      "1                   158    L158F              F         ttt            True   \n",
      "2                   319    L319F              F         ttt            True   \n",
      "3                   150    W150L              L         ttg            True   \n",
      "4                   296    L296L              L         ctt           False   \n",
      "5                   470    L470L              L         ctt           False   \n",
      "6                    43     P43P              P         cca           False   \n",
      "7                   152    K152N              N         aat            True   \n",
      "8                   391    Q391K              K         aaa            True   \n",
      "9                   202    V202V              V         gtt           False   \n",
      "10                   88     A88A              A         gct           False   \n",
      "11                  420    A420A              A         gca           False   \n",
      "\n",
      "    number_genomes  number_nucleotide_changes  number_reference_genomes  \\\n",
      "0                1                          1                       166   \n",
      "1                1                          1                       166   \n",
      "2                1                          1                       166   \n",
      "3                1                          1                       166   \n",
      "4                1                          1                       166   \n",
      "5                1                          1                       166   \n",
      "6                1                          1                       166   \n",
      "7                1                          1                       166   \n",
      "8                1                          1                       166   \n",
      "9                1                          1                       166   \n",
      "10               1                          1                       166   \n",
      "11               1                          1                       166   \n",
      "\n",
      "   original_amino_acid original_triplet  synonymous  \n",
      "0                    L              ttg       False  \n",
      "1                    L              ttg       False  \n",
      "2                    L              ttg       False  \n",
      "3                    W              tgg       False  \n",
      "4                    L              ctg        True  \n",
      "5                    L              ctg        True  \n",
      "6                    P              ccc        True  \n",
      "7                    K              aag       False  \n",
      "8                    Q              caa       False  \n",
      "9                    V              gtg        True  \n",
      "10                   A              gcg        True  \n",
      "11                   A              gcc        True  \n"
     ]
    }
   ],
   "source": [
    "print(mcr1.df)"
   ]
  },
  {
   "cell_type": "code",
   "execution_count": 42,
   "metadata": {},
   "outputs": [],
   "source": [
    "# save all the variables and arrays to a NPY file\n",
    "mcr1.save(\"dat/mcr1-whole-1.npy\")\n",
    "\n",
    "# save the Pandas dataset to a CSV and DTA file\n",
    "mcr1.df.to_csv(\"dat/mcr1-whole-1.csv\")\n",
    "mcr1.df.to_stata(\"dat/mcr1-whole-1.dta\")"
   ]
  }
 ],
 "metadata": {
  "kernelspec": {
   "display_name": "Python 3",
   "language": "python",
   "name": "python3"
  },
  "language_info": {
   "codemirror_mode": {
    "name": "ipython",
    "version": 3
   },
   "file_extension": ".py",
   "mimetype": "text/x-python",
   "name": "python",
   "nbconvert_exporter": "python",
   "pygments_lexer": "ipython3",
   "version": "3.5.4"
  }
 },
 "nbformat": 4,
 "nbformat_minor": 2
}
